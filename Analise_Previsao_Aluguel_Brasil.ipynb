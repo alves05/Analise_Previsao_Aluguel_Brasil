{
 "cells": [
  {
   "cell_type": "markdown",
   "id": "db7fd03d",
   "metadata": {},
   "source": [
    "<h1 style='text-align: center'>Análise e Previsão de Alugeis no Brasil</h1>"
   ]
  },
  {
   "cell_type": "markdown",
   "id": "e81c2654",
   "metadata": {},
   "source": [
    "## Importações"
   ]
  },
  {
   "cell_type": "code",
   "execution_count": 1,
   "id": "22b4f195",
   "metadata": {},
   "outputs": [],
   "source": [
    "from pyspark.sql.functions import *\n",
    "import pandas as pd\n",
    "import matplotlib.pyplot as plt\n",
    "import seaborn as sns"
   ]
  },
  {
   "cell_type": "markdown",
   "id": "78888856",
   "metadata": {},
   "source": [
    "## Carregando Base de Dados"
   ]
  },
  {
   "cell_type": "code",
   "execution_count": 2,
   "id": "7c33b0e7",
   "metadata": {},
   "outputs": [],
   "source": [
    "# Carregando base de dados usando Spark\n",
    "base = './dados/houses_to_rent_v2.csv'\n",
    "df = spark.read.csv(base, header=True, inferSchema=False)"
   ]
  },
  {
   "cell_type": "markdown",
   "id": "44a8ae25",
   "metadata": {},
   "source": [
    "## Tratamento dos Dados"
   ]
  },
  {
   "cell_type": "markdown",
   "id": "926ec5ca",
   "metadata": {},
   "source": [
    "### Conhecendo a Base de Dados\n",
    "\n",
    "Antes de iniciarmos as transformações, explorações e análises, é essencial que nos familiarizemos adequadamente com a base de dados. Isso proporcionará uma compreensão mais sólida do contexto e dos elementos-chave, permitindo-nos realizar as etapas subsequentes de maneira mais informada e eficaz."
   ]
  },
  {
   "cell_type": "markdown",
   "id": "02d2b6f9",
   "metadata": {},
   "source": [
    "#### Descrição dos dados do dataset:\n",
    "\n",
    "1. **city**: Cidade onde o imóvel está localizado\n",
    "2. **area**: Area do imovel\n",
    "3. **rooms**: Número de quartos\n",
    "4. **bathroom**: Número de banheiros\n",
    "5. **parking spaces**: Número de vagas\n",
    "6. **floor**: Andar\n",
    "7. **animal**: Imovel aceita animais ou não\n",
    "8. **furniture**: Imovel está mobiliado ou não\n",
    "9. **hoa**: Valor do condominio\n",
    "10. **rent amount**: Valor do aluguel\n",
    "11. **property tax**: IPTU\n",
    "12. **fire insurance**: Seguro incendio\n",
    "13. **total**: Valor total"
   ]
  },
  {
   "cell_type": "code",
   "execution_count": 3,
   "id": "1e085956",
   "metadata": {},
   "outputs": [
    {
     "data": {
      "text/html": [
       "<div>\n",
       "<style scoped>\n",
       "    .dataframe tbody tr th:only-of-type {\n",
       "        vertical-align: middle;\n",
       "    }\n",
       "\n",
       "    .dataframe tbody tr th {\n",
       "        vertical-align: top;\n",
       "    }\n",
       "\n",
       "    .dataframe thead th {\n",
       "        text-align: right;\n",
       "    }\n",
       "</style>\n",
       "<table border=\"1\" class=\"dataframe\">\n",
       "  <thead>\n",
       "    <tr style=\"text-align: right;\">\n",
       "      <th></th>\n",
       "      <th>city</th>\n",
       "      <th>area</th>\n",
       "      <th>rooms</th>\n",
       "      <th>bathroom</th>\n",
       "      <th>parking spaces</th>\n",
       "      <th>floor</th>\n",
       "      <th>animal</th>\n",
       "      <th>furniture</th>\n",
       "      <th>hoa (R$)</th>\n",
       "      <th>rent amount (R$)</th>\n",
       "      <th>property tax (R$)</th>\n",
       "      <th>fire insurance (R$)</th>\n",
       "      <th>total (R$)</th>\n",
       "    </tr>\n",
       "  </thead>\n",
       "  <tbody>\n",
       "    <tr>\n",
       "      <th>0</th>\n",
       "      <td>São Paulo</td>\n",
       "      <td>70</td>\n",
       "      <td>2</td>\n",
       "      <td>1</td>\n",
       "      <td>1</td>\n",
       "      <td>7</td>\n",
       "      <td>acept</td>\n",
       "      <td>furnished</td>\n",
       "      <td>2065</td>\n",
       "      <td>3300</td>\n",
       "      <td>211</td>\n",
       "      <td>42</td>\n",
       "      <td>5618</td>\n",
       "    </tr>\n",
       "    <tr>\n",
       "      <th>1</th>\n",
       "      <td>São Paulo</td>\n",
       "      <td>320</td>\n",
       "      <td>4</td>\n",
       "      <td>4</td>\n",
       "      <td>0</td>\n",
       "      <td>20</td>\n",
       "      <td>acept</td>\n",
       "      <td>not furnished</td>\n",
       "      <td>1200</td>\n",
       "      <td>4960</td>\n",
       "      <td>1750</td>\n",
       "      <td>63</td>\n",
       "      <td>7973</td>\n",
       "    </tr>\n",
       "    <tr>\n",
       "      <th>2</th>\n",
       "      <td>Porto Alegre</td>\n",
       "      <td>80</td>\n",
       "      <td>1</td>\n",
       "      <td>1</td>\n",
       "      <td>1</td>\n",
       "      <td>6</td>\n",
       "      <td>acept</td>\n",
       "      <td>not furnished</td>\n",
       "      <td>1000</td>\n",
       "      <td>2800</td>\n",
       "      <td>0</td>\n",
       "      <td>41</td>\n",
       "      <td>3841</td>\n",
       "    </tr>\n",
       "    <tr>\n",
       "      <th>3</th>\n",
       "      <td>Porto Alegre</td>\n",
       "      <td>51</td>\n",
       "      <td>2</td>\n",
       "      <td>1</td>\n",
       "      <td>0</td>\n",
       "      <td>2</td>\n",
       "      <td>acept</td>\n",
       "      <td>not furnished</td>\n",
       "      <td>270</td>\n",
       "      <td>1112</td>\n",
       "      <td>22</td>\n",
       "      <td>17</td>\n",
       "      <td>1421</td>\n",
       "    </tr>\n",
       "    <tr>\n",
       "      <th>4</th>\n",
       "      <td>São Paulo</td>\n",
       "      <td>25</td>\n",
       "      <td>1</td>\n",
       "      <td>1</td>\n",
       "      <td>0</td>\n",
       "      <td>1</td>\n",
       "      <td>not acept</td>\n",
       "      <td>not furnished</td>\n",
       "      <td>0</td>\n",
       "      <td>800</td>\n",
       "      <td>25</td>\n",
       "      <td>11</td>\n",
       "      <td>836</td>\n",
       "    </tr>\n",
       "  </tbody>\n",
       "</table>\n",
       "</div>"
      ],
      "text/plain": [
       "           city area rooms bathroom parking spaces floor     animal  \\\n",
       "0     São Paulo   70     2        1              1     7      acept   \n",
       "1     São Paulo  320     4        4              0    20      acept   \n",
       "2  Porto Alegre   80     1        1              1     6      acept   \n",
       "3  Porto Alegre   51     2        1              0     2      acept   \n",
       "4     São Paulo   25     1        1              0     1  not acept   \n",
       "\n",
       "       furniture hoa (R$) rent amount (R$) property tax (R$)  \\\n",
       "0      furnished     2065             3300               211   \n",
       "1  not furnished     1200             4960              1750   \n",
       "2  not furnished     1000             2800                 0   \n",
       "3  not furnished      270             1112                22   \n",
       "4  not furnished        0              800                25   \n",
       "\n",
       "  fire insurance (R$) total (R$)  \n",
       "0                  42       5618  \n",
       "1                  63       7973  \n",
       "2                  41       3841  \n",
       "3                  17       1421  \n",
       "4                  11        836  "
      ]
     },
     "execution_count": 3,
     "metadata": {},
     "output_type": "execute_result"
    }
   ],
   "source": [
    "# visualizando as primeiras linhas\n",
    "df.toPandas().head()"
   ]
  },
  {
   "cell_type": "code",
   "execution_count": 4,
   "id": "9809a95f",
   "metadata": {},
   "outputs": [
    {
     "data": {
      "text/html": [
       "<div>\n",
       "<style scoped>\n",
       "    .dataframe tbody tr th:only-of-type {\n",
       "        vertical-align: middle;\n",
       "    }\n",
       "\n",
       "    .dataframe tbody tr th {\n",
       "        vertical-align: top;\n",
       "    }\n",
       "\n",
       "    .dataframe thead th {\n",
       "        text-align: right;\n",
       "    }\n",
       "</style>\n",
       "<table border=\"1\" class=\"dataframe\">\n",
       "  <thead>\n",
       "    <tr style=\"text-align: right;\">\n",
       "      <th></th>\n",
       "      <th>city</th>\n",
       "      <th>area</th>\n",
       "      <th>rooms</th>\n",
       "      <th>bathroom</th>\n",
       "      <th>parking spaces</th>\n",
       "      <th>floor</th>\n",
       "      <th>animal</th>\n",
       "      <th>furniture</th>\n",
       "      <th>hoa (R$)</th>\n",
       "      <th>rent amount (R$)</th>\n",
       "      <th>property tax (R$)</th>\n",
       "      <th>fire insurance (R$)</th>\n",
       "      <th>total (R$)</th>\n",
       "    </tr>\n",
       "  </thead>\n",
       "  <tbody>\n",
       "    <tr>\n",
       "      <th>10687</th>\n",
       "      <td>Porto Alegre</td>\n",
       "      <td>63</td>\n",
       "      <td>2</td>\n",
       "      <td>1</td>\n",
       "      <td>1</td>\n",
       "      <td>5</td>\n",
       "      <td>not acept</td>\n",
       "      <td>furnished</td>\n",
       "      <td>402</td>\n",
       "      <td>1478</td>\n",
       "      <td>24</td>\n",
       "      <td>22</td>\n",
       "      <td>1926</td>\n",
       "    </tr>\n",
       "    <tr>\n",
       "      <th>10688</th>\n",
       "      <td>São Paulo</td>\n",
       "      <td>285</td>\n",
       "      <td>4</td>\n",
       "      <td>4</td>\n",
       "      <td>4</td>\n",
       "      <td>17</td>\n",
       "      <td>acept</td>\n",
       "      <td>not furnished</td>\n",
       "      <td>3100</td>\n",
       "      <td>15000</td>\n",
       "      <td>973</td>\n",
       "      <td>191</td>\n",
       "      <td>19260</td>\n",
       "    </tr>\n",
       "    <tr>\n",
       "      <th>10689</th>\n",
       "      <td>Rio de Janeiro</td>\n",
       "      <td>70</td>\n",
       "      <td>3</td>\n",
       "      <td>3</td>\n",
       "      <td>0</td>\n",
       "      <td>8</td>\n",
       "      <td>not acept</td>\n",
       "      <td>furnished</td>\n",
       "      <td>980</td>\n",
       "      <td>6000</td>\n",
       "      <td>332</td>\n",
       "      <td>78</td>\n",
       "      <td>7390</td>\n",
       "    </tr>\n",
       "    <tr>\n",
       "      <th>10690</th>\n",
       "      <td>Rio de Janeiro</td>\n",
       "      <td>120</td>\n",
       "      <td>2</td>\n",
       "      <td>2</td>\n",
       "      <td>2</td>\n",
       "      <td>8</td>\n",
       "      <td>acept</td>\n",
       "      <td>furnished</td>\n",
       "      <td>1585</td>\n",
       "      <td>12000</td>\n",
       "      <td>279</td>\n",
       "      <td>155</td>\n",
       "      <td>14020</td>\n",
       "    </tr>\n",
       "    <tr>\n",
       "      <th>10691</th>\n",
       "      <td>São Paulo</td>\n",
       "      <td>80</td>\n",
       "      <td>2</td>\n",
       "      <td>1</td>\n",
       "      <td>0</td>\n",
       "      <td>-</td>\n",
       "      <td>acept</td>\n",
       "      <td>not furnished</td>\n",
       "      <td>0</td>\n",
       "      <td>1400</td>\n",
       "      <td>165</td>\n",
       "      <td>22</td>\n",
       "      <td>1587</td>\n",
       "    </tr>\n",
       "  </tbody>\n",
       "</table>\n",
       "</div>"
      ],
      "text/plain": [
       "                 city area rooms bathroom parking spaces floor     animal  \\\n",
       "10687    Porto Alegre   63     2        1              1     5  not acept   \n",
       "10688       São Paulo  285     4        4              4    17      acept   \n",
       "10689  Rio de Janeiro   70     3        3              0     8  not acept   \n",
       "10690  Rio de Janeiro  120     2        2              2     8      acept   \n",
       "10691       São Paulo   80     2        1              0     -      acept   \n",
       "\n",
       "           furniture hoa (R$) rent amount (R$) property tax (R$)  \\\n",
       "10687      furnished      402             1478                24   \n",
       "10688  not furnished     3100            15000               973   \n",
       "10689      furnished      980             6000               332   \n",
       "10690      furnished     1585            12000               279   \n",
       "10691  not furnished        0             1400               165   \n",
       "\n",
       "      fire insurance (R$) total (R$)  \n",
       "10687                  22       1926  \n",
       "10688                 191      19260  \n",
       "10689                  78       7390  \n",
       "10690                 155      14020  \n",
       "10691                  22       1587  "
      ]
     },
     "execution_count": 4,
     "metadata": {},
     "output_type": "execute_result"
    }
   ],
   "source": [
    "# visualizando as últimas linhas\n",
    "df.toPandas().tail()"
   ]
  },
  {
   "cell_type": "code",
   "execution_count": 5,
   "id": "e76e79b0",
   "metadata": {},
   "outputs": [],
   "source": [
    "def dimensao(dados):\n",
    "    '''Retorna as dimensões do dataframe.'''\n",
    "    print('Linhas:', dados.count())\n",
    "    print('Colunas:', len(dados.columns))"
   ]
  },
  {
   "cell_type": "code",
   "execution_count": 6,
   "id": "754c89e2",
   "metadata": {},
   "outputs": [
    {
     "name": "stdout",
     "output_type": "stream",
     "text": [
      "Linhas: 10692\n",
      "Colunas: 13\n"
     ]
    }
   ],
   "source": [
    "# Dimensão do dataframe\n",
    "dimensao(df)"
   ]
  },
  {
   "cell_type": "code",
   "execution_count": 7,
   "id": "b7e32789",
   "metadata": {},
   "outputs": [
    {
     "name": "stdout",
     "output_type": "stream",
     "text": [
      "root\n",
      " |-- city: string (nullable = true)\n",
      " |-- area: string (nullable = true)\n",
      " |-- rooms: string (nullable = true)\n",
      " |-- bathroom: string (nullable = true)\n",
      " |-- parking spaces: string (nullable = true)\n",
      " |-- floor: string (nullable = true)\n",
      " |-- animal: string (nullable = true)\n",
      " |-- furniture: string (nullable = true)\n",
      " |-- hoa (R$): string (nullable = true)\n",
      " |-- rent amount (R$): string (nullable = true)\n",
      " |-- property tax (R$): string (nullable = true)\n",
      " |-- fire insurance (R$): string (nullable = true)\n",
      " |-- total (R$): string (nullable = true)\n",
      "\n"
     ]
    }
   ],
   "source": [
    "# Informações dos dados do dataset\n",
    "df.printSchema()"
   ]
  },
  {
   "cell_type": "code",
   "execution_count": 8,
   "id": "66ae398b",
   "metadata": {
    "scrolled": true
   },
   "outputs": [
    {
     "name": "stdout",
     "output_type": "stream",
     "text": [
      "city 0\n",
      "area 0\n",
      "rooms 0\n",
      "bathroom 0\n",
      "parking spaces 0\n",
      "floor 0\n",
      "animal 0\n",
      "furniture 0\n",
      "hoa (R$) 0\n",
      "rent amount (R$) 0\n",
      "property tax (R$) 0\n",
      "fire insurance (R$) 0\n",
      "total (R$) 0\n"
     ]
    }
   ],
   "source": [
    "# Verificando valores faltantes ou nulos\n",
    "for coluna in df.columns:\n",
    "    print(coluna, df.filter(col(coluna).isNull()).count())"
   ]
  },
  {
   "cell_type": "code",
   "execution_count": 9,
   "id": "d7a37730",
   "metadata": {},
   "outputs": [
    {
     "name": "stdout",
     "output_type": "stream",
     "text": [
      "coluna: city - 5\n",
      "coluna: area - 517\n",
      "coluna: rooms - 11\n",
      "coluna: bathroom - 10\n",
      "coluna: parking spaces - 11\n",
      "coluna: floor - 35\n",
      "coluna: animal - 2\n",
      "coluna: furniture - 2\n",
      "coluna: hoa (R$) - 1679\n",
      "coluna: rent amount (R$) - 1195\n",
      "coluna: property tax (R$) - 1243\n",
      "coluna: fire insurance (R$) - 216\n",
      "coluna: total (R$) - 5751\n"
     ]
    }
   ],
   "source": [
    "# Verificando quantidade de valores únicos de cada coluna\n",
    "for coluna in df.columns:\n",
    "    valores_unicos = df.select(countDistinct(col(coluna)).alias('count')).collect()[0]['count']\n",
    "    print('coluna:',coluna,'-',valores_unicos)"
   ]
  },
  {
   "cell_type": "markdown",
   "id": "cae27840",
   "metadata": {},
   "source": [
    "### Transformando a Base de Dados\n",
    "\n",
    "Após uma análise inicial da base de dados, estamos prontos para iniciar o processo de tradução dos títulos das colunas, ajuste dos valores das variáveis, remoção de dados duplicados e modificação dos tipos de dados, incluindo a conversão entre strings, inteiros e floats conforme necessário."
   ]
  },
  {
   "cell_type": "code",
   "execution_count": 10,
   "id": "6793c744",
   "metadata": {
    "scrolled": true
   },
   "outputs": [],
   "source": [
    "# Alterando título das colunas do dataset\n",
    "novo_titulo = [\n",
    "    'cidade', 'area', 'quartos', 'banheiros', 'vagas', 'andar', 'animais',\n",
    "    'mobilia', 'condominio', 'aluguel', 'iptu', 'seguro', 'total'\n",
    "]\n",
    "for indice, coluna in enumerate(df.columns):\n",
    "    df = df.withColumnRenamed(coluna , novo_titulo[indice])"
   ]
  },
  {
   "cell_type": "code",
   "execution_count": 12,
   "id": "6e561551",
   "metadata": {},
   "outputs": [],
   "source": [
    "# Alterando atributo da coluna 'animal'\n",
    "# not acept iremos alterar para 0\n",
    "# acept iremos alterar para 1\n",
    "df = df.withColumn('animais', when(col('animais') == 'not acept',0).otherwise(col('animais')))\\\n",
    "    .withColumn('animais', when(col('animais') == 'acept',1).otherwise(col('animais')))\n",
    "\n",
    "# Alterando atributo da coluna 'mobilia'\n",
    "# not furnished iremos alterar para 0\n",
    "# furnished iremos alterar para 1\n",
    "df = df.withColumn('mobilia', when(col('mobilia') == 'not furnished',0).otherwise(col('mobilia')))\\\n",
    "    .withColumn('mobilia', when(col('mobilia') == 'furnished',1).otherwise(col('mobilia')))\n",
    "\n",
    "# Alterando valoe '-' para 0 na coluna andar\n",
    "df = df.withColumn('andar', when(col('andar') == '-', 0).otherwise(col('andar')))"
   ]
  },
  {
   "cell_type": "code",
   "execution_count": 13,
   "id": "33b46fe6",
   "metadata": {},
   "outputs": [],
   "source": [
    "# Convertendo as colunas string em int\n",
    "for coluna in df.columns[1:8]:\n",
    "    df = df.withColumn(coluna, col(coluna).cast('int'))\n",
    "    \n",
    "for coluna in df.columns[8:]:\n",
    "    df = df.withColumn(coluna, col(coluna).cast('float'))"
   ]
  },
  {
   "cell_type": "code",
   "execution_count": 14,
   "id": "940cd990",
   "metadata": {},
   "outputs": [
    {
     "name": "stdout",
     "output_type": "stream",
     "text": [
      "root\n",
      " |-- cidade: string (nullable = true)\n",
      " |-- area: integer (nullable = true)\n",
      " |-- quartos: integer (nullable = true)\n",
      " |-- banheiros: integer (nullable = true)\n",
      " |-- vagas: integer (nullable = true)\n",
      " |-- andar: integer (nullable = true)\n",
      " |-- animais: integer (nullable = true)\n",
      " |-- mobilia: integer (nullable = true)\n",
      " |-- condominio: float (nullable = true)\n",
      " |-- aluguel: float (nullable = true)\n",
      " |-- iptu: float (nullable = true)\n",
      " |-- seguro: float (nullable = true)\n",
      " |-- total: float (nullable = true)\n",
      "\n"
     ]
    }
   ],
   "source": [
    "# Verificando alteração\n",
    "df.printSchema()"
   ]
  },
  {
   "cell_type": "code",
   "execution_count": 15,
   "id": "fd547f42",
   "metadata": {},
   "outputs": [],
   "source": [
    "# Removendo registros duplicados\n",
    "df = df.dropDuplicates()"
   ]
  },
  {
   "cell_type": "code",
   "execution_count": 16,
   "id": "b5806023",
   "metadata": {},
   "outputs": [
    {
     "name": "stdout",
     "output_type": "stream",
     "text": [
      "+--------------+----+-------+---------+-----+-----+-------+-------+----------+-------+------+------+-------+\n",
      "|        cidade|area|quartos|banheiros|vagas|andar|animais|mobilia|condominio|aluguel|  iptu|seguro|  total|\n",
      "+--------------+----+-------+---------+-----+-----+-------+-------+----------+-------+------+------+-------+\n",
      "|     São Paulo|  30|      1|        1|    0|    1|      1|      0|     460.0| 1600.0|   0.0|  21.0| 2081.0|\n",
      "|Rio de Janeiro| 130|      3|        2|    1|    7|      1|      0|    1660.0| 1700.0| 475.0|  22.0| 3857.0|\n",
      "|     São Paulo|  96|      3|        2|    2|   17|      1|      0|     804.0| 3200.0| 250.0|  41.0| 4295.0|\n",
      "|Rio de Janeiro| 107|      3|        2|    0|    7|      1|      1|    1460.0| 3200.0| 270.0|  42.0| 4972.0|\n",
      "|Rio de Janeiro| 105|      3|        2|    0|    1|      1|      0|     740.0| 2200.0|   9.0|  29.0| 2978.0|\n",
      "|Belo Horizonte| 308|      2|        3|    3|    0|      1|      0|       0.0| 2000.0| 171.0|  33.0| 2204.0|\n",
      "|     São Paulo| 480|      5|        6|    3|    0|      1|      0|       0.0| 5000.0|1000.0|  76.0| 6076.0|\n",
      "|Belo Horizonte| 142|      4|        3|    2|    3|      1|      0|     900.0| 2700.0| 277.0|  36.0| 3913.0|\n",
      "|  Porto Alegre| 367|      3|        4|    4|    8|      0|      0|    7000.0|15000.0|1032.0| 220.0|23250.0|\n",
      "|      Campinas|  75|      3|        1|    1|    1|      0|      0|     296.0|12000.0|   0.0| 181.0|12480.0|\n",
      "+--------------+----+-------+---------+-----+-----+-------+-------+----------+-------+------+------+-------+\n",
      "only showing top 10 rows\n",
      "\n"
     ]
    }
   ],
   "source": [
    "# Visualizando base transformada\n",
    "df.show(10)"
   ]
  },
  {
   "cell_type": "code",
   "execution_count": 17,
   "id": "e59e4684",
   "metadata": {},
   "outputs": [
    {
     "name": "stdout",
     "output_type": "stream",
     "text": [
      "Linhas: 10334\n",
      "Colunas: 13\n"
     ]
    }
   ],
   "source": [
    "# Dimensões do dataframe\n",
    "dimensao(df)"
   ]
  },
  {
   "cell_type": "markdown",
   "id": "28d48aa9",
   "metadata": {},
   "source": [
    "### Tratando Outliers\n",
    "\n",
    "A fim de avançar nas análises, é imperativo assegurar a consistência dos dados. Para alcançar esse objetivo, faremos uma análise para identificar a presença de outliers e, se necessário, implementaremos os devidos procedimentos de tratamento."
   ]
  },
  {
   "cell_type": "code",
   "execution_count": 18,
   "id": "cf3e7a3b",
   "metadata": {},
   "outputs": [],
   "source": [
    "def estatisticas(dados):\n",
    "    '''Calcula e retorna a estatística descritiva da base de dados.'''\n",
    "    summary = pd.DataFrame()\n",
    "    for coluna in dados.columns[1:]:\n",
    "        temp_df = dados.select(coluna).summary('min', '25%', '50%', '75%', 'max').toPandas()\n",
    "        summary = pd.concat([summary, temp_df], axis=1)\n",
    "    summary = summary.loc[:,~summary.columns.duplicated()]\n",
    "    summary.set_index('summary', inplace=True)\n",
    "\n",
    "    return summary"
   ]
  },
  {
   "cell_type": "code",
   "execution_count": 19,
   "id": "4fa13b5d",
   "metadata": {},
   "outputs": [
    {
     "data": {
      "text/html": [
       "<div>\n",
       "<style scoped>\n",
       "    .dataframe tbody tr th:only-of-type {\n",
       "        vertical-align: middle;\n",
       "    }\n",
       "\n",
       "    .dataframe tbody tr th {\n",
       "        vertical-align: top;\n",
       "    }\n",
       "\n",
       "    .dataframe thead th {\n",
       "        text-align: right;\n",
       "    }\n",
       "</style>\n",
       "<table border=\"1\" class=\"dataframe\">\n",
       "  <thead>\n",
       "    <tr style=\"text-align: right;\">\n",
       "      <th></th>\n",
       "      <th>area</th>\n",
       "      <th>quartos</th>\n",
       "      <th>banheiros</th>\n",
       "      <th>vagas</th>\n",
       "      <th>andar</th>\n",
       "      <th>animais</th>\n",
       "      <th>mobilia</th>\n",
       "      <th>condominio</th>\n",
       "      <th>aluguel</th>\n",
       "      <th>iptu</th>\n",
       "      <th>seguro</th>\n",
       "      <th>total</th>\n",
       "    </tr>\n",
       "    <tr>\n",
       "      <th>summary</th>\n",
       "      <th></th>\n",
       "      <th></th>\n",
       "      <th></th>\n",
       "      <th></th>\n",
       "      <th></th>\n",
       "      <th></th>\n",
       "      <th></th>\n",
       "      <th></th>\n",
       "      <th></th>\n",
       "      <th></th>\n",
       "      <th></th>\n",
       "      <th></th>\n",
       "    </tr>\n",
       "  </thead>\n",
       "  <tbody>\n",
       "    <tr>\n",
       "      <th>min</th>\n",
       "      <td>11</td>\n",
       "      <td>1</td>\n",
       "      <td>1</td>\n",
       "      <td>0</td>\n",
       "      <td>0</td>\n",
       "      <td>0</td>\n",
       "      <td>0</td>\n",
       "      <td>0.0</td>\n",
       "      <td>450.0</td>\n",
       "      <td>0.0</td>\n",
       "      <td>3.0</td>\n",
       "      <td>499.0</td>\n",
       "    </tr>\n",
       "    <tr>\n",
       "      <th>25%</th>\n",
       "      <td>59</td>\n",
       "      <td>2</td>\n",
       "      <td>1</td>\n",
       "      <td>1</td>\n",
       "      <td>1</td>\n",
       "      <td>1</td>\n",
       "      <td>0</td>\n",
       "      <td>180.0</td>\n",
       "      <td>1590.0</td>\n",
       "      <td>40.0</td>\n",
       "      <td>21.0</td>\n",
       "      <td>2115.0</td>\n",
       "    </tr>\n",
       "    <tr>\n",
       "      <th>50%</th>\n",
       "      <td>95</td>\n",
       "      <td>3</td>\n",
       "      <td>2</td>\n",
       "      <td>1</td>\n",
       "      <td>3</td>\n",
       "      <td>1</td>\n",
       "      <td>0</td>\n",
       "      <td>571.0</td>\n",
       "      <td>2750.0</td>\n",
       "      <td>130.0</td>\n",
       "      <td>37.0</td>\n",
       "      <td>3685.0</td>\n",
       "    </tr>\n",
       "    <tr>\n",
       "      <th>75%</th>\n",
       "      <td>190</td>\n",
       "      <td>3</td>\n",
       "      <td>3</td>\n",
       "      <td>2</td>\n",
       "      <td>8</td>\n",
       "      <td>1</td>\n",
       "      <td>0</td>\n",
       "      <td>1286.0</td>\n",
       "      <td>5000.0</td>\n",
       "      <td>389.0</td>\n",
       "      <td>70.0</td>\n",
       "      <td>6909.0</td>\n",
       "    </tr>\n",
       "    <tr>\n",
       "      <th>max</th>\n",
       "      <td>46335</td>\n",
       "      <td>13</td>\n",
       "      <td>10</td>\n",
       "      <td>12</td>\n",
       "      <td>301</td>\n",
       "      <td>1</td>\n",
       "      <td>1</td>\n",
       "      <td>1117000.0</td>\n",
       "      <td>45000.0</td>\n",
       "      <td>313700.0</td>\n",
       "      <td>677.0</td>\n",
       "      <td>1120000.0</td>\n",
       "    </tr>\n",
       "  </tbody>\n",
       "</table>\n",
       "</div>"
      ],
      "text/plain": [
       "          area quartos banheiros vagas andar animais mobilia condominio  \\\n",
       "summary                                                                   \n",
       "min         11       1         1     0     0       0       0        0.0   \n",
       "25%         59       2         1     1     1       1       0      180.0   \n",
       "50%         95       3         2     1     3       1       0      571.0   \n",
       "75%        190       3         3     2     8       1       0     1286.0   \n",
       "max      46335      13        10    12   301       1       1  1117000.0   \n",
       "\n",
       "         aluguel      iptu seguro      total  \n",
       "summary                                       \n",
       "min        450.0       0.0    3.0      499.0  \n",
       "25%       1590.0      40.0   21.0     2115.0  \n",
       "50%       2750.0     130.0   37.0     3685.0  \n",
       "75%       5000.0     389.0   70.0     6909.0  \n",
       "max      45000.0  313700.0  677.0  1120000.0  "
      ]
     },
     "execution_count": 19,
     "metadata": {},
     "output_type": "execute_result"
    }
   ],
   "source": [
    "# Estatística descritiva da base de dados\n",
    "estatisticas(df)"
   ]
  },
  {
   "cell_type": "markdown",
   "id": "7f24a85c",
   "metadata": {},
   "source": [
    "Ao examinar a tabela de estatísticas descritivas do dataframe, torna-se evidente a presença de outliers, destacando-se especialmente nas variáveis área, andar, condomínio e IPTU. Será realizada uma análise abrangente de todas essas variáveis."
   ]
  },
  {
   "cell_type": "code",
   "execution_count": 20,
   "id": "f8a7b024",
   "metadata": {},
   "outputs": [],
   "source": [
    "def boxplot(dados):\n",
    "    '''A função irá plotar os gráficos boxplot para cada variável numérica.'''\n",
    "    df_pandas = dados.toPandas()\n",
    "    \n",
    "    fig, axs = plt.subplots(3,3,figsize=(12,12))\n",
    "    sns.boxplot(x=df_pandas['area'], ax=axs[0,0])\n",
    "    sns.boxplot(x=df_pandas['quartos'], ax=axs[0,1])\n",
    "    sns.boxplot(x=df_pandas['banheiros'], ax=axs[0,2])\n",
    "    sns.boxplot(x=df_pandas['vagas'], ax=axs[1,0])\n",
    "    sns.boxplot(x=df_pandas['andar'], ax=axs[1,1])\n",
    "    sns.boxplot(x=df_pandas['condominio'], ax=axs[1,2])\n",
    "    sns.boxplot(x=df_pandas['aluguel'], ax=axs[2,0])\n",
    "    sns.boxplot(x=df_pandas['iptu'], ax=axs[2,1])\n",
    "    sns.boxplot(x=df_pandas['seguro'], ax=axs[2,2])\n",
    "    \n",
    "    plt.show()"
   ]
  },
  {
   "cell_type": "code",
   "execution_count": 21,
   "id": "e94e2143",
   "metadata": {},
   "outputs": [
    {
     "data": {
      "image/png": "[encoded data removed]",
      "text/plain": [
       "<Figure size 1200x1200 with 9 Axes>"
      ]
     },
     "metadata": {},
     "output_type": "display_data"
    }
   ],
   "source": [
    "# Gerando gráficos boxplot para a visualização dos outliers\n",
    "boxplot(df)"
   ]
  },
  {
   "cell_type": "markdown",
   "id": "1e5dbed2",
   "metadata": {},
   "source": [
    "Ao examinar minuciosamente os gráficos boxplots, notamos a distorção provocada pelos outliers. Nesse contexto, planejamos abordar todos os valores que ultrapassam os limites superiores estabelecidos para cada coluna, visando uma correção mais precisa e robusta dos dados."
   ]
  },
  {
   "cell_type": "code",
   "execution_count": 22,
   "id": "a7291f31",
   "metadata": {},
   "outputs": [],
   "source": [
    "def upper_bound(dados, coluna):\n",
    "    '''Retorna o valor o limite superior de cada coluna.'''\n",
    "    quartis = dados.approxQuantile(coluna, [0.25,0.75],0.01)\n",
    "    q1 = quartis[0]\n",
    "    q3 = quartis[1]\n",
    "    iqr = q3 - q1\n",
    "    \n",
    "    limite_superior = q3 + 1.5 * iqr\n",
    "        \n",
    "    return limite_superior"
   ]
  },
  {
   "cell_type": "code",
   "execution_count": 23,
   "id": "7b091a96",
   "metadata": {},
   "outputs": [
    {
     "name": "stdout",
     "output_type": "stream",
     "text": [
      "[363.0, 4.5, 6.0, 3.5, 18.5, 1.0, 0.0, 2800.0, 10175.0, 877.5, 136.0, 13636.0]\n"
     ]
    }
   ],
   "source": [
    "# Retorna os valores dos limites superiores de cada coluna\n",
    "valores = []\n",
    "for coluna in df.columns[1:]:\n",
    "    valores.append(upper_bound(df, coluna))\n",
    "    \n",
    "print(valores)"
   ]
  },
  {
   "cell_type": "code",
   "execution_count": 24,
   "id": "067d612a",
   "metadata": {},
   "outputs": [],
   "source": [
    "# Removendo outliers apartir dos limites superiores de cada coluna\n",
    "df_tratado = df.filter((col('area') <= 500) & (col('quartos') <= 5) & (col('banheiros') <= 6) & (col('vagas') <= 4)\\\n",
    "                      & (col('andar') <= 20) & (col('condominio') <= 2800.0) & (col('aluguel') <= 10175.0)\\\n",
    "                      & (col('iptu') <= 877.5) & (col('seguro') <= 136.0) & (col('total') <= 13636.0))"
   ]
  },
  {
   "cell_type": "code",
   "execution_count": 25,
   "id": "9400190f",
   "metadata": {},
   "outputs": [
    {
     "name": "stdout",
     "output_type": "stream",
     "text": [
      "Linhas: 8308\n",
      "Colunas: 13\n"
     ]
    }
   ],
   "source": [
    "# Dimensões do dataframe\n",
    "dimensao(df_tratado)"
   ]
  },
  {
   "cell_type": "code",
   "execution_count": 26,
   "id": "e04337a3",
   "metadata": {},
   "outputs": [
    {
     "data": {
      "text/html": [
       "<div>\n",
       "<style scoped>\n",
       "    .dataframe tbody tr th:only-of-type {\n",
       "        vertical-align: middle;\n",
       "    }\n",
       "\n",
       "    .dataframe tbody tr th {\n",
       "        vertical-align: top;\n",
       "    }\n",
       "\n",
       "    .dataframe thead th {\n",
       "        text-align: right;\n",
       "    }\n",
       "</style>\n",
       "<table border=\"1\" class=\"dataframe\">\n",
       "  <thead>\n",
       "    <tr style=\"text-align: right;\">\n",
       "      <th></th>\n",
       "      <th>area</th>\n",
       "      <th>quartos</th>\n",
       "      <th>banheiros</th>\n",
       "      <th>vagas</th>\n",
       "      <th>andar</th>\n",
       "      <th>animais</th>\n",
       "      <th>mobilia</th>\n",
       "      <th>condominio</th>\n",
       "      <th>aluguel</th>\n",
       "      <th>iptu</th>\n",
       "      <th>seguro</th>\n",
       "      <th>total</th>\n",
       "    </tr>\n",
       "    <tr>\n",
       "      <th>summary</th>\n",
       "      <th></th>\n",
       "      <th></th>\n",
       "      <th></th>\n",
       "      <th></th>\n",
       "      <th></th>\n",
       "      <th></th>\n",
       "      <th></th>\n",
       "      <th></th>\n",
       "      <th></th>\n",
       "      <th></th>\n",
       "      <th></th>\n",
       "      <th></th>\n",
       "    </tr>\n",
       "  </thead>\n",
       "  <tbody>\n",
       "    <tr>\n",
       "      <th>min</th>\n",
       "      <td>11</td>\n",
       "      <td>1</td>\n",
       "      <td>1</td>\n",
       "      <td>0</td>\n",
       "      <td>0</td>\n",
       "      <td>0</td>\n",
       "      <td>0</td>\n",
       "      <td>0.0</td>\n",
       "      <td>450.0</td>\n",
       "      <td>0.0</td>\n",
       "      <td>3.0</td>\n",
       "      <td>499.0</td>\n",
       "    </tr>\n",
       "    <tr>\n",
       "      <th>25%</th>\n",
       "      <td>52</td>\n",
       "      <td>1</td>\n",
       "      <td>1</td>\n",
       "      <td>0</td>\n",
       "      <td>1</td>\n",
       "      <td>1</td>\n",
       "      <td>0</td>\n",
       "      <td>227.0</td>\n",
       "      <td>1400.0</td>\n",
       "      <td>27.0</td>\n",
       "      <td>19.0</td>\n",
       "      <td>1881.0</td>\n",
       "    </tr>\n",
       "    <tr>\n",
       "      <th>50%</th>\n",
       "      <td>78</td>\n",
       "      <td>2</td>\n",
       "      <td>2</td>\n",
       "      <td>1</td>\n",
       "      <td>3</td>\n",
       "      <td>1</td>\n",
       "      <td>0</td>\n",
       "      <td>530.0</td>\n",
       "      <td>2230.0</td>\n",
       "      <td>94.0</td>\n",
       "      <td>30.0</td>\n",
       "      <td>3016.0</td>\n",
       "    </tr>\n",
       "    <tr>\n",
       "      <th>75%</th>\n",
       "      <td>130</td>\n",
       "      <td>3</td>\n",
       "      <td>2</td>\n",
       "      <td>2</td>\n",
       "      <td>8</td>\n",
       "      <td>1</td>\n",
       "      <td>0</td>\n",
       "      <td>1000.0</td>\n",
       "      <td>3550.0</td>\n",
       "      <td>234.0</td>\n",
       "      <td>49.0</td>\n",
       "      <td>4835.0</td>\n",
       "    </tr>\n",
       "    <tr>\n",
       "      <th>max</th>\n",
       "      <td>500</td>\n",
       "      <td>5</td>\n",
       "      <td>6</td>\n",
       "      <td>4</td>\n",
       "      <td>20</td>\n",
       "      <td>1</td>\n",
       "      <td>1</td>\n",
       "      <td>2800.0</td>\n",
       "      <td>10140.0</td>\n",
       "      <td>876.0</td>\n",
       "      <td>136.0</td>\n",
       "      <td>13490.0</td>\n",
       "    </tr>\n",
       "  </tbody>\n",
       "</table>\n",
       "</div>"
      ],
      "text/plain": [
       "        area quartos banheiros vagas andar animais mobilia condominio  \\\n",
       "summary                                                                 \n",
       "min       11       1         1     0     0       0       0        0.0   \n",
       "25%       52       1         1     0     1       1       0      227.0   \n",
       "50%       78       2         2     1     3       1       0      530.0   \n",
       "75%      130       3         2     2     8       1       0     1000.0   \n",
       "max      500       5         6     4    20       1       1     2800.0   \n",
       "\n",
       "         aluguel   iptu seguro    total  \n",
       "summary                                  \n",
       "min        450.0    0.0    3.0    499.0  \n",
       "25%       1400.0   27.0   19.0   1881.0  \n",
       "50%       2230.0   94.0   30.0   3016.0  \n",
       "75%       3550.0  234.0   49.0   4835.0  \n",
       "max      10140.0  876.0  136.0  13490.0  "
      ]
     },
     "execution_count": 26,
     "metadata": {},
     "output_type": "execute_result"
    }
   ],
   "source": [
    "# Estatística do dataframe tratado\n",
    "estatisticas(df_tratado)"
   ]
  },
  {
   "cell_type": "markdown",
   "id": "9e72eb6e",
   "metadata": {},
   "source": [
    "Agora, após realizar o devido tratamento no dataframe, torna-se possível identificar uma simetria nos dados ao examinar a tabela de estatísticas descritivas. Essa abordagem refinada nos permite obter insights mais precisos sobre a distribuição e a estrutura dos dados."
   ]
  },
  {
   "cell_type": "markdown",
   "id": "397260ec",
   "metadata": {},
   "source": [
    "**Salvando Dataframe tratado**"
   ]
  },
  {
   "cell_type": "code",
   "execution_count": 27,
   "id": "12b79ec8",
   "metadata": {},
   "outputs": [],
   "source": [
    "df_tratado.toPandas().to_csv('./dados/house_to_rent_tratado.csv')"
   ]
  },
  {
   "cell_type": "markdown",
   "id": "87ededc4",
   "metadata": {},
   "source": [
    "## Análise Exploratória dos Dados"
   ]
  },
  {
   "cell_type": "code",
   "execution_count": 28,
   "id": "9ebac42f",
   "metadata": {},
   "outputs": [
    {
     "name": "stdout",
     "output_type": "stream",
     "text": [
      "+---+--------------+----+-------+---------+-----+-----+-------+-------+----------+-------+-----+------+------+\n",
      "|_c0|        cidade|area|quartos|banheiros|vagas|andar|animais|mobilia|condominio|aluguel| iptu|seguro| total|\n",
      "+---+--------------+----+-------+---------+-----+-----+-------+-------+----------+-------+-----+------+------+\n",
      "|  0|     São Paulo|  30|      1|        1|    0|    1|      1|      0|     460.0| 1600.0|  0.0|  21.0|2081.0|\n",
      "|  1|Rio de Janeiro| 130|      3|        2|    1|    7|      1|      0|    1660.0| 1700.0|475.0|  22.0|3857.0|\n",
      "|  2|     São Paulo|  96|      3|        2|    2|   17|      1|      0|     804.0| 3200.0|250.0|  41.0|4295.0|\n",
      "|  3|Rio de Janeiro| 107|      3|        2|    0|    7|      1|      1|    1460.0| 3200.0|270.0|  42.0|4972.0|\n",
      "|  4|Rio de Janeiro| 105|      3|        2|    0|    1|      1|      0|     740.0| 2200.0|  9.0|  29.0|2978.0|\n",
      "+---+--------------+----+-------+---------+-----+-----+-------+-------+----------+-------+-----+------+------+\n",
      "only showing top 5 rows\n",
      "\n"
     ]
    }
   ],
   "source": [
    "# Carregando dataset tratado\n",
    "base = './dados/house_to_rent_tratado.csv'\n",
    "df = spark.read.csv(base, header=True, inferSchema=False)\n",
    "\n",
    "# Visualizando o dataframe\n",
    "df.show(5)"
   ]
  },
  {
   "cell_type": "code",
   "execution_count": 29,
   "id": "3d17cb35",
   "metadata": {},
   "outputs": [
    {
     "name": "stdout",
     "output_type": "stream",
     "text": [
      "Linhas: 8308\n",
      "Colunas: 14\n"
     ]
    }
   ],
   "source": [
    "# Dimensões do dataframe\n",
    "dimensao(df)"
   ]
  },
  {
   "cell_type": "code",
   "execution_count": null,
   "id": "82e68666",
   "metadata": {},
   "outputs": [],
   "source": []
  }
 ],
 "metadata": {
  "kernelspec": {
   "display_name": "Python 3 (ipykernel)",
   "language": "python",
   "name": "python3"
  },
  "language_info": {
   "codemirror_mode": {
    "name": "ipython",
    "version": 3
   },
   "file_extension": ".py",
   "mimetype": "text/x-python",
   "name": "python",
   "nbconvert_exporter": "python",
   "pygments_lexer": "ipython3",
   "version": "3.11.5"
  }
 },
 "nbformat": 4,
 "nbformat_minor": 5
}
